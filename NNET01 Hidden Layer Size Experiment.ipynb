{
 "cells": [
  {
   "cell_type": "code",
   "execution_count": null,
   "id": "20ae785c-bf88-45f7-bb14-4fb3e16f6b7e",
   "metadata": {},
   "outputs": [],
   "source": [
    "import h5py\n",
    "import pylab as plt\n",
    "from matplotlib.colors import LogNorm\n",
    "import matplotlib.ticker as mtick\n",
    "import numpy as np\n",
    "import os\n",
    "from scipy.stats import linregress\n",
    "import seaborn as sns\n",
    "import tensorflow as tf\n",
    "\n",
    "import nnet_evaluate\n",
    "import utils\n",
    "\n",
    "os.environ['TF_CPP_MIN_LOG_LEVEL'] = '3'\n",
    "\n",
    "sns.set_style('darkgrid')\n",
    "%matplotlib inline"
   ]
  },
  {
   "cell_type": "code",
   "execution_count": null,
   "id": "f6c72636-62bd-4599-a027-b1742df83d48",
   "metadata": {},
   "outputs": [],
   "source": [
    "def plot_summary(file_name, xlim=None, redline=100, ylim=None):\n",
    "    # Load data ------------------------------------------\n",
    "    hdf = h5py.File(file_name, 'r')\n",
    "    sizes = hdf['sizes'][:]\n",
    "#    moments = ['n', 'vx', 'vy', 'vz', 'txx', 'tyy', 'tzz', 'txz', 'tyz', 'txy']\n",
    "    moments = ['n', 'vx', 'vy', 'vz', 'txx', 'tyy', 'tzz']\n",
    "\n",
    "\n",
    "    r2 = {m: hdf[m]['r2'] for m in moments}\n",
    "    points_true = {m: hdf[m]['points_true'][:] for m in moments}\n",
    "    points_recon = {m: hdf[m]['points_recon'][:] for m in moments}\n",
    "    #test_data = nnet_evaluate.load_test_data('4B_dayside')\n",
    "    \n",
    "    # Make plot -----------------------------------------\n",
    "    fig, axes = plt.subplots(1, 7, sharex='all', sharey='all', figsize=(20, 4))\n",
    "    axes_orig = axes\n",
    "    axes = axes.flatten()\n",
    "    for i, m in enumerate(r2):\n",
    "        axes[i].plot(sizes, r2[m], 'o')\n",
    "        axes[i].set_ylim([0, 1])\n",
    "        axes[i].set_title(m, fontsize=15)\n",
    "        axes[i].axvline(16*32*2, color='red', linestyle='dashed')\n",
    "        if xlim:\n",
    "            axes[i].set_xlim(*xlim)\n",
    "        if ylim:\n",
    "            axes[i].set_ylim(*ylim)\n",
    "        axes[i].set_xlabel('# Dimensions', fontsize=12)\n",
    "\n",
    "    axes[0].set_ylabel('$r^2$', fontsize=15)\n",
    "    fig.suptitle(f'Moments Reconstruction vs # Dimensions (MMS Mission Phase {os.path.basename(os.path.dirname(file_name))})', fontsize=20)\n",
    "    fig.tight_layout()"
   ]
  },
  {
   "cell_type": "code",
   "execution_count": null,
   "id": "bffa675e-1010-4482-ac26-d0956774f0ce",
   "metadata": {},
   "outputs": [],
   "source": [
    "plot_summary('/mnt/efs/dasilva/compression-cfha/data/nnet_models/hidden_layer_exp/4A_dusk_flank.rfr001/moments_stats.hdf', ylim=(.75, 1.0))"
   ]
  },
  {
   "cell_type": "code",
   "execution_count": null,
   "id": "7860da82-c4f2-4876-8f61-f96fa1dd41e3",
   "metadata": {},
   "outputs": [],
   "source": [
    "plot_summary('/mnt/efs/dasilva/compression-cfha/data/nnet_models/hidden_layer_exp/4B_dayside.rfr001/moments_stats.hdf', ylim=(.75, 1.0))"
   ]
  },
  {
   "cell_type": "code",
   "execution_count": null,
   "id": "49b5c2a9-c804-4b18-8e30-a4f68f0674e8",
   "metadata": {},
   "outputs": [],
   "source": [
    "plot_summary('/mnt/efs/dasilva/compression-cfha/data/nnet_models/hidden_layer_exp/4C_dawn_flank.rfr001/moments_stats.hdf', ylim=(.75, 1.0))"
   ]
  },
  {
   "cell_type": "code",
   "execution_count": null,
   "id": "93b3b5de-60b1-456b-827a-1b72825a4cb6",
   "metadata": {},
   "outputs": [],
   "source": [
    "plot_summary('/mnt/efs/dasilva/compression-cfha/data/nnet_models/hidden_layer_exp/4D_tail.rfr001/moments_stats.hdf', ylim=(.75, 1.0))"
   ]
  },
  {
   "cell_type": "code",
   "execution_count": null,
   "id": "e64179e2-d41e-42ad-a0a8-fa50a5301f46",
   "metadata": {},
   "outputs": [],
   "source": [
    "plot_summary('/mnt/efs/dasilva/compression-cfha/data/nnet_models/hidden_layer_exp/all.rfr001/moments_stats.hdf', ylim=(.75, 1.0))"
   ]
  }
 ],
 "metadata": {
  "kernelspec": {
   "display_name": "Compression-CFHA",
   "language": "python",
   "name": "compression-cfha"
  },
  "language_info": {
   "codemirror_mode": {
    "name": "ipython",
    "version": 3
   },
   "file_extension": ".py",
   "mimetype": "text/x-python",
   "name": "python",
   "nbconvert_exporter": "python",
   "pygments_lexer": "ipython3",
   "version": "3.8.0"
  }
 },
 "nbformat": 4,
 "nbformat_minor": 5
}
