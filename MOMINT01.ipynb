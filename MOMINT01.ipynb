{
 "cells": [
  {
   "cell_type": "code",
   "execution_count": null,
   "id": "1bd8c285-9e29-4c40-ab74-a25748af0605",
   "metadata": {},
   "outputs": [],
   "source": [
    "import h5py\n",
    "import numpy as np\n",
    "import moms_numpy\n",
    "import nnet_evaluate\n",
    "import progressbar\n",
    "import utils\n",
    "import pylab as plt"
   ]
  },
  {
   "cell_type": "code",
   "execution_count": null,
   "id": "ad6e7b8b-6b52-4c3e-b631-fb9617df8eca",
   "metadata": {},
   "outputs": [],
   "source": [
    "test_data = nnet_evaluate.load_test_data('4B_dayside')"
   ]
  },
  {
   "cell_type": "code",
   "execution_count": null,
   "id": "a099f180-41c9-4212-9c1d-411b314619b1",
   "metadata": {},
   "outputs": [],
   "source": [
    "test_data.keys()"
   ]
  },
  {
   "cell_type": "code",
   "execution_count": null,
   "id": "06f9db0c-4d58-4ba3-b414-5a255f6c250e",
   "metadata": {},
   "outputs": [],
   "source": [
    "f1ct = np.ones((32, 16, 32))\n",
    "counts = np.zeros((32, 16, 32))\n",
    "weights = {mom: np.zeros((32, 16, 32)) for mom in 'n, vx, vy, vz, txx, tyy, tzz, txy, txz, tyz, nvx, nvy, nvz, ntxx, ntyy, ntzz, ntxz, ntxy, ntyz'.split(', ')}\n",
    "\n",
    "targets = []\n",
    "\n",
    "bar = progressbar.ProgressBar()\n",
    "\n",
    "for i in range(32):\n",
    "    for j in range(16):\n",
    "        for k in range(32):\n",
    "            targets.append((i, j, k))\n",
    "            \n",
    "for (i, j, k) in bar(targets):\n",
    "    counts[:] = 0\n",
    "    counts[i, j, k] = 1\n",
    "\n",
    "    result = moms_numpy.idl_moments(\n",
    "        counts,\n",
    "        test_data['E'][0],\n",
    "        test_data['theta'][0],\n",
    "        test_data['phi'][0],\n",
    "        extras=True\n",
    "    )\n",
    "    \n",
    "    for mom in result:\n",
    "        weights[mom][i, j, k] = result[mom]"
   ]
  },
  {
   "cell_type": "code",
   "execution_count": null,
   "id": "5826014e-e48e-44af-b9d2-fc8af60ca783",
   "metadata": {},
   "outputs": [],
   "source": [
    "print('hi')"
   ]
  },
  {
   "cell_type": "code",
   "execution_count": null,
   "id": "0a1ab1d4-61ae-4e9a-a0c0-a7239e31ecfa",
   "metadata": {},
   "outputs": [],
   "source": [
    "hdf = h5py.File('moms_weights.hdf', 'w')\n",
    "for mom in weights:\n",
    "    if mom[0] == 'n':\n",
    "        hdf[mom] = weights[mom]\n",
    "hdf.close()"
   ]
  },
  {
   "cell_type": "code",
   "execution_count": null,
   "id": "c2dfb71c-e0ad-47f8-a2ae-8b8925209483",
   "metadata": {},
   "outputs": [],
   "source": [
    "import moms_fast\n",
    "import importlib\n",
    "importlib.reload(moms_fast)\n",
    "\n",
    "f1ct = utils.get_f1ct({'4B_dayside': test_data}, ['4B_dayside'])\n",
    "moms_orig, moms_new = [], []\n",
    "bar = progressbar.ProgressBar()\n",
    "\n",
    "for i in bar(list(range(test_data['counts'].shape[0]))):\n",
    "    dist = test_data['counts'][i] * f1ct\n",
    "    \n",
    "    if not dist.any():\n",
    "        continue\n",
    "    \n",
    "    result = moms_numpy.idl_moments(\n",
    "        dist,\n",
    "        test_data['E'][0],\n",
    "        test_data['theta'][0],\n",
    "        test_data['phi'][0],\n",
    "    )\n",
    "    moms_orig.append(result)\n",
    "    \n",
    "    result =  moms_fast.fast_moments(dist)\n",
    "    moms_new.append(result)"
   ]
  },
  {
   "cell_type": "code",
   "execution_count": null,
   "id": "ebd59e9c-e9a8-4f94-a465-49edeb671782",
   "metadata": {},
   "outputs": [],
   "source": [
    "from scipy.stats import linregress\n",
    "\n",
    "for mom in moms_orig[0].keys():\n",
    "    x = [d[mom] for d in moms_orig]\n",
    "    y = [d[mom] for d in moms_new]\n",
    "\n",
    "    r2 = linregress(x, y).rvalue**2\n",
    "    \n",
    "    plt.figure()\n",
    "    plt.title('%s - r2 = %.10f' % (mom, r2))\n",
    "    plt.plot(x, y, ',')"
   ]
  },
  {
   "cell_type": "code",
   "execution_count": null,
   "id": "0373ef51-b2f5-49f4-b9a2-72e1e785c0bd",
   "metadata": {},
   "outputs": [],
   "source": [
    "for mom in moms_new[0].keys():\n",
    "    if mom[0] == 'n':\n",
    "        plt.figure()\n",
    "        plt.hist( [d[mom] for d in moms_new])\n",
    "        plt.title(mom)"
   ]
  },
  {
   "cell_type": "code",
   "execution_count": null,
   "id": "5272a69e-c933-4060-a02e-4d3def2856fc",
   "metadata": {},
   "outputs": [],
   "source": []
  }
 ],
 "metadata": {
  "kernelspec": {
   "display_name": "Compression-CFHA",
   "language": "python",
   "name": "compression-cfha"
  },
  "language_info": {
   "codemirror_mode": {
    "name": "ipython",
    "version": 3
   },
   "file_extension": ".py",
   "mimetype": "text/x-python",
   "name": "python",
   "nbconvert_exporter": "python",
   "pygments_lexer": "ipython3",
   "version": "3.8.0"
  }
 },
 "nbformat": 4,
 "nbformat_minor": 5
}
