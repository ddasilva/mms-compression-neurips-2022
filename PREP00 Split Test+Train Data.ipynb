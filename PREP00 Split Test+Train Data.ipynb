{
 "cells": [
  {
   "cell_type": "code",
   "execution_count": null,
   "id": "afae3d76-c937-4375-bbf5-4a8f1ef00cb6",
   "metadata": {},
   "outputs": [],
   "source": [
    "from collections import Counter\n",
    "import glob\n",
    "import numpy as np\n",
    "import sklearn\n",
    "import pandas as pd\n",
    "\n",
    "!source /home/admin/cdf38_0-dist/bin/definitions.B\n",
    "from spacepy import pycdf"
   ]
  },
  {
   "cell_type": "code",
   "execution_count": null,
   "id": "55745e4f-c619-4ce5-bc3d-2858d4e3f2b6",
   "metadata": {},
   "outputs": [],
   "source": [
    "file_paths = glob.glob('/mnt/efs/dasilva/compression-cfha/data/mms_data/**/*.cdf')\n",
    "file_paths.sort()\n",
    "file_paths\n",
    "file_paths[:5]"
   ]
  },
  {
   "cell_type": "code",
   "execution_count": null,
   "id": "80d1c895-f055-4b9d-91c9-13330942e7b2",
   "metadata": {},
   "outputs": [],
   "source": [
    "phases = [f.split('/')[-2] for f in file_paths]\n",
    "phases[:5]"
   ]
  },
  {
   "cell_type": "code",
   "execution_count": null,
   "id": "c9866eb0-492f-4561-8704-48849bb9ab8d",
   "metadata": {
    "tags": []
   },
   "outputs": [],
   "source": [
    "from joblib import delayed, Parallel\n",
    "\n",
    "def get_length(file_name):\n",
    "    try:\n",
    "        cdf = pycdf.CDF(file_name)\n",
    "        length = cdf['Epoch'].shape[0]\n",
    "        cdf.close()\n",
    "    except:\n",
    "          return 0\n",
    "    return length\n",
    "\n",
    "\n",
    "tasks = []\n",
    "for file_path in file_paths:\n",
    "    tasks.append(delayed(get_length)(file_path))\n",
    "    \n",
    "lengths = Parallel(n_jobs=50, prefer='processes', verbose=10)(tasks)\n",
    "lengths[:5]\n",
    "\n",
    "lengths = [get_length(file_name) for file_name in bar(file_paths)]"
   ]
  },
  {
   "cell_type": "code",
   "execution_count": null,
   "id": "4abab457-578f-454d-977c-0e23dbaeb647",
   "metadata": {},
   "outputs": [],
   "source": [
    "df_all = pd.DataFrame({'phase': phases,\n",
    "                       'file_path': file_paths,\n",
    "                       'lengths': lengths})\n",
    "df_all.head()"
   ]
  },
  {
   "cell_type": "code",
   "execution_count": null,
   "id": "717d4d02-d887-4864-8651-a34b5d74c090",
   "metadata": {},
   "outputs": [],
   "source": [
    "SPLIT_FRAC = 0.9\n",
    "dfs_by_phase = []\n",
    "\n",
    "for phase in sorted(set(phases)):\n",
    "    df_phase = df_all[df_all.phase==phase]\n",
    "    num_rows = len(df_phase.index)\n",
    "    df_phase_shuffled = df_phase.sample(frac=1)\n",
    "    df_phase_shuffled['test_train'] = 'train'\n",
    "    df_phase_shuffled['test_train'].iloc[int(SPLIT_FRAC*num_rows):] = 'test'\n",
    "    dfs_by_phase.append(df_phase_shuffled)\n",
    "        \n",
    "df_all_with_test_train = pd.concat(dfs_by_phase).sort_index()\n",
    "df_all_with_test_train"
   ]
  },
  {
   "cell_type": "code",
   "execution_count": null,
   "id": "660835d7-3256-4a12-a143-b898b6930ec2",
   "metadata": {},
   "outputs": [],
   "source": [
    "Counter(df_all_with_test_train.test_train)"
   ]
  },
  {
   "cell_type": "code",
   "execution_count": null,
   "id": "242ce569-f802-473c-a02b-101393f7fc8a",
   "metadata": {},
   "outputs": [],
   "source": [
    "df_all_with_test_train.to_csv('/mnt/efs/dasilva/compression-cfha/data/test_train_split.csv', index=False)"
   ]
  }
 ],
 "metadata": {
  "kernelspec": {
   "display_name": "Compression-CFHA",
   "language": "python",
   "name": "compression-cfha"
  },
  "language_info": {
   "codemirror_mode": {
    "name": "ipython",
    "version": 3
   },
   "file_extension": ".py",
   "mimetype": "text/x-python",
   "name": "python",
   "nbconvert_exporter": "python",
   "pygments_lexer": "ipython3",
   "version": "3.8.0"
  }
 },
 "nbformat": 4,
 "nbformat_minor": 5
}
